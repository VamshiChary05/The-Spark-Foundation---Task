{
 "cells": [
  {
   "cell_type": "markdown",
   "id": "989ec66b",
   "metadata": {},
   "source": [
    "# The Sparks Foundation"
   ]
  },
  {
   "cell_type": "markdown",
   "id": "54efbd03",
   "metadata": {},
   "source": [
    "# Data Science & Business Analytics"
   ]
  },
  {
   "cell_type": "markdown",
   "id": "35b86929",
   "metadata": {},
   "source": [
    "# Narsapuram Vamshi Chary"
   ]
  },
  {
   "cell_type": "markdown",
   "id": "31e2946b",
   "metadata": {},
   "source": [
    "# Task 2"
   ]
  },
  {
   "cell_type": "markdown",
   "id": "da608589",
   "metadata": {},
   "source": [
    "# predict the optimum number of clusters and represent it visually"
   ]
  },
  {
   "cell_type": "code",
   "execution_count": 2,
   "id": "99d27d26",
   "metadata": {},
   "outputs": [],
   "source": [
    "# let's import libraries\n",
    "\n",
    "import numpy as np\n",
    "import pandas as pd\n",
    "import matplotlib.pyplot as plt\n",
    "import seaborn as sns\n",
    "from sklearn import datasets\n",
    "import warnings\n",
    "warnings.filterwarnings('ignore')\n",
    "plt.rcParams['figure.figsize']=[15,8]"
   ]
  },
  {
   "cell_type": "code",
   "execution_count": 3,
   "id": "cb5c84a4",
   "metadata": {},
   "outputs": [],
   "source": [
    "#Data Preparation"
   ]
  },
  {
   "cell_type": "code",
   "execution_count": 4,
   "id": "502168e8",
   "metadata": {},
   "outputs": [],
   "source": [
    "# READ DATA"
   ]
  },
  {
   "cell_type": "code",
   "execution_count": 5,
   "id": "4abe0ca3",
   "metadata": {},
   "outputs": [
    {
     "data": {
      "text/html": [
       "<div>\n",
       "<style scoped>\n",
       "    .dataframe tbody tr th:only-of-type {\n",
       "        vertical-align: middle;\n",
       "    }\n",
       "\n",
       "    .dataframe tbody tr th {\n",
       "        vertical-align: top;\n",
       "    }\n",
       "\n",
       "    .dataframe thead th {\n",
       "        text-align: right;\n",
       "    }\n",
       "</style>\n",
       "<table border=\"1\" class=\"dataframe\">\n",
       "  <thead>\n",
       "    <tr style=\"text-align: right;\">\n",
       "      <th></th>\n",
       "      <th>sepal length (cm)</th>\n",
       "      <th>sepal width (cm)</th>\n",
       "      <th>petal length (cm)</th>\n",
       "      <th>petal width (cm)</th>\n",
       "    </tr>\n",
       "  </thead>\n",
       "  <tbody>\n",
       "    <tr>\n",
       "      <th>0</th>\n",
       "      <td>5.1</td>\n",
       "      <td>3.5</td>\n",
       "      <td>1.4</td>\n",
       "      <td>0.2</td>\n",
       "    </tr>\n",
       "    <tr>\n",
       "      <th>1</th>\n",
       "      <td>4.9</td>\n",
       "      <td>3.0</td>\n",
       "      <td>1.4</td>\n",
       "      <td>0.2</td>\n",
       "    </tr>\n",
       "    <tr>\n",
       "      <th>2</th>\n",
       "      <td>4.7</td>\n",
       "      <td>3.2</td>\n",
       "      <td>1.3</td>\n",
       "      <td>0.2</td>\n",
       "    </tr>\n",
       "    <tr>\n",
       "      <th>3</th>\n",
       "      <td>4.6</td>\n",
       "      <td>3.1</td>\n",
       "      <td>1.5</td>\n",
       "      <td>0.2</td>\n",
       "    </tr>\n",
       "    <tr>\n",
       "      <th>4</th>\n",
       "      <td>5.0</td>\n",
       "      <td>3.6</td>\n",
       "      <td>1.4</td>\n",
       "      <td>0.2</td>\n",
       "    </tr>\n",
       "  </tbody>\n",
       "</table>\n",
       "</div>"
      ],
      "text/plain": [
       "   sepal length (cm)  sepal width (cm)  petal length (cm)  petal width (cm)\n",
       "0                5.1               3.5                1.4               0.2\n",
       "1                4.9               3.0                1.4               0.2\n",
       "2                4.7               3.2                1.3               0.2\n",
       "3                4.6               3.1                1.5               0.2\n",
       "4                5.0               3.6                1.4               0.2"
      ]
     },
     "execution_count": 5,
     "metadata": {},
     "output_type": "execute_result"
    }
   ],
   "source": [
    "iris = datasets.load_iris()\n",
    "df = pd.DataFrame(iris.data,columns = iris.feature_names)\n",
    "df.head()"
   ]
  },
  {
   "cell_type": "code",
   "execution_count": 6,
   "id": "8adc77dc",
   "metadata": {},
   "outputs": [],
   "source": [
    "#Let us now see the number of variables and observations in the data."
   ]
  },
  {
   "cell_type": "code",
   "execution_count": 7,
   "id": "17799892",
   "metadata": {},
   "outputs": [
    {
     "data": {
      "text/plain": [
       "(150, 4)"
      ]
     },
     "execution_count": 7,
     "metadata": {},
     "output_type": "execute_result"
    }
   ],
   "source": [
    "df.shape"
   ]
  },
  {
   "cell_type": "code",
   "execution_count": 8,
   "id": "92812a8c",
   "metadata": {},
   "outputs": [],
   "source": [
    "#Interpretation: The Dataset has 150 observation and 4 variables"
   ]
  },
  {
   "cell_type": "code",
   "execution_count": 9,
   "id": "db522258",
   "metadata": {},
   "outputs": [],
   "source": [
    "# Check the data types"
   ]
  },
  {
   "cell_type": "code",
   "execution_count": 10,
   "id": "bb6f65c2",
   "metadata": {},
   "outputs": [
    {
     "data": {
      "text/plain": [
       "sepal length (cm)    float64\n",
       "sepal width (cm)     float64\n",
       "petal length (cm)    float64\n",
       "petal width (cm)     float64\n",
       "dtype: object"
      ]
     },
     "execution_count": 10,
     "metadata": {},
     "output_type": "execute_result"
    }
   ],
   "source": [
    "df.dtypes"
   ]
  },
  {
   "cell_type": "code",
   "execution_count": 11,
   "id": "fcc4964a",
   "metadata": {},
   "outputs": [
    {
     "data": {
      "image/png": "[encoded data removed]",
      "text/plain": [
       "<Figure size 1080x288 with 4 Axes>"
      ]
     },
     "metadata": {
      "needs_background": "light"
     },
     "output_type": "display_data"
    }
   ],
   "source": [
    "# plot the boxplot for each numerical variable.\n",
    "# set the number of rows in the subplot using the parameter, 'nrows'\n",
    "# set the number of columns in the subplot using the parameter, 'ncols'\n",
    "# 'figsize' sets the figure size\n",
    "\n",
    "fig,ax = plt.subplots(nrows =1 ,ncols=4,figsize=(15,4))\n",
    "\n",
    "# using for loop to plot the boxplot for each variable\n",
    "\n",
    "for variable, subplot in zip(df.columns,ax.flatten()):\n",
    "    # use boxplot() to plot the graph\n",
    "    # pass the axes for the plot to the parameter, 'ax'\n",
    "    sns.boxplot(df[variable],ax= subplot)\n",
    "    \n",
    "# display the plot\n",
    "\n",
    "plt.show()"
   ]
  },
  {
   "cell_type": "code",
   "execution_count": 12,
   "id": "4eb0ba2b",
   "metadata": {},
   "outputs": [],
   "source": [
    "#Lets check Missing values"
   ]
  },
  {
   "cell_type": "code",
   "execution_count": 13,
   "id": "82f2aa36",
   "metadata": {},
   "outputs": [
    {
     "data": {
      "text/plain": [
       "sepal length (cm)    0\n",
       "sepal width (cm)     0\n",
       "petal length (cm)    0\n",
       "petal width (cm)     0\n",
       "dtype: int64"
      ]
     },
     "execution_count": 13,
     "metadata": {},
     "output_type": "execute_result"
    }
   ],
   "source": [
    "df.isnull().sum()"
   ]
  },
  {
   "cell_type": "code",
   "execution_count": 14,
   "id": "3833103e",
   "metadata": {},
   "outputs": [],
   "source": [
    "#Interpretation: The above output shows that thers is no missing values in the data"
   ]
  },
  {
   "cell_type": "markdown",
   "id": "16dab75d",
   "metadata": {},
   "source": [
    "# K-Means Clustering\n"
   ]
  },
  {
   "cell_type": "markdown",
   "id": "8b7f8312",
   "metadata": {},
   "source": [
    "Let us perform the centroid-based clustering algorithm (i.e. K-Means). Such algorithms are efficient but sensitive to initial conditions and outliers. K-means is the most widely-used centroid-based clustering algorithm.\n",
    "\n",
    "Here we consider elbow plot to decide the optimal value of K to perform the K-means clustering."
   ]
  },
  {
   "cell_type": "markdown",
   "id": "8648e652",
   "metadata": {},
   "source": [
    "# Optimal Value of K using elbow plot"
   ]
  },
  {
   "cell_type": "markdown",
   "id": "0e86312d",
   "metadata": {},
   "source": [
    "Elbow plot is plotted with the value of K on the x-axis and the WCSS (Within Cluster Sum of Squares) on the y-axis. The value of K corresponding to the elbow point represents the optimal value for K."
   ]
  },
  {
   "cell_type": "code",
   "execution_count": 15,
   "id": "8fe9de71",
   "metadata": {},
   "outputs": [],
   "source": [
    "from sklearn.cluster import KMeans"
   ]
  },
  {
   "cell_type": "code",
   "execution_count": 16,
   "id": "08cfaab3",
   "metadata": {},
   "outputs": [],
   "source": [
    "# create several cluster combinations ranging from 1 to 11 and observe the wcss\n",
    "# (within the cluster sum of square) for each cluster\n",
    "# consider an empty list to store the WCSS\n",
    "\n",
    "wcss = []\n",
    "# lets use for loop to perform K-Means with diffrent values of k\n",
    "#set the random state to obtain the initial centroids in space  for each code run\n",
    "# append the value of Wcss for each K to the list 'Wcss'\n",
    "# the inertia_ returns the wcss for specific value of K\n",
    "for i in range(1,11):\n",
    "    kmeans = KMeans(n_clusters=i,random_state=10)\n",
    "    kmeans.fit(df)\n",
    "    wcss.append(kmeans.inertia_)"
   ]
  },
  {
   "cell_type": "markdown",
   "id": "39bb590b",
   "metadata": {},
   "source": [
    "# Let's Plot the Elbow curve and find the optimal point"
   ]
  },
  {
   "cell_type": "code",
   "execution_count": 17,
   "id": "4ad67929",
   "metadata": {},
   "outputs": [
    {
     "data": {
      "image/png": "[encoded data removed]",
      "text/plain": [
       "<Figure size 1080x576 with 1 Axes>"
      ]
     },
     "metadata": {
      "needs_background": "light"
     },
     "output_type": "display_data"
    }
   ],
   "source": [
    "# visualize the elbow plot to get the optimal value of k\n",
    "plt.plot(range(1,11),wcss)\n",
    "\n",
    "# set the axis and plt labels\n",
    "\n",
    "plt.title('Elbow Plot',fontsize = 15)\n",
    "plt.xlabel('No of Cluster (K)',fontsize = 15)\n",
    "plt.ylabel('WCSS',fontsize = 15)\n",
    "\n",
    "# display the plt\n",
    "\n",
    "plt.show()"
   ]
  },
  {
   "cell_type": "markdown",
   "id": "39d74736",
   "metadata": {},
   "source": [
    "Interpretation: We can see that the for K = 3, there is an elbow in the plot. Before this elbow point, the WCSS is decreasing rapidly and after K = 5, the WCSS is decreasing slowly"
   ]
  },
  {
   "cell_type": "code",
   "execution_count": 18,
   "id": "53aecc8f",
   "metadata": {},
   "outputs": [],
   "source": [
    "# Build the Model"
   ]
  },
  {
   "cell_type": "code",
   "execution_count": 19,
   "id": "bca89fcc",
   "metadata": {},
   "outputs": [],
   "source": [
    "# build a K-Means model with 3 clusters\n",
    "new_clusters = KMeans(n_clusters = 3, random_state = 10)\n",
    "\n",
    "# fit the model\n",
    "new_clusters.fit(df)\n",
    "\n",
    "# append the cluster label for each point in the dataframe 'df_cust'\n",
    "df['Cluster'] = new_clusters.labels_"
   ]
  },
  {
   "cell_type": "code",
   "execution_count": 20,
   "id": "be918e52",
   "metadata": {},
   "outputs": [
    {
     "data": {
      "text/html": [
       "<div>\n",
       "<style scoped>\n",
       "    .dataframe tbody tr th:only-of-type {\n",
       "        vertical-align: middle;\n",
       "    }\n",
       "\n",
       "    .dataframe tbody tr th {\n",
       "        vertical-align: top;\n",
       "    }\n",
       "\n",
       "    .dataframe thead th {\n",
       "        text-align: right;\n",
       "    }\n",
       "</style>\n",
       "<table border=\"1\" class=\"dataframe\">\n",
       "  <thead>\n",
       "    <tr style=\"text-align: right;\">\n",
       "      <th></th>\n",
       "      <th>sepal length (cm)</th>\n",
       "      <th>sepal width (cm)</th>\n",
       "      <th>petal length (cm)</th>\n",
       "      <th>petal width (cm)</th>\n",
       "      <th>Cluster</th>\n",
       "    </tr>\n",
       "  </thead>\n",
       "  <tbody>\n",
       "    <tr>\n",
       "      <th>0</th>\n",
       "      <td>5.1</td>\n",
       "      <td>3.5</td>\n",
       "      <td>1.4</td>\n",
       "      <td>0.2</td>\n",
       "      <td>0</td>\n",
       "    </tr>\n",
       "    <tr>\n",
       "      <th>1</th>\n",
       "      <td>4.9</td>\n",
       "      <td>3.0</td>\n",
       "      <td>1.4</td>\n",
       "      <td>0.2</td>\n",
       "      <td>0</td>\n",
       "    </tr>\n",
       "    <tr>\n",
       "      <th>2</th>\n",
       "      <td>4.7</td>\n",
       "      <td>3.2</td>\n",
       "      <td>1.3</td>\n",
       "      <td>0.2</td>\n",
       "      <td>0</td>\n",
       "    </tr>\n",
       "    <tr>\n",
       "      <th>3</th>\n",
       "      <td>4.6</td>\n",
       "      <td>3.1</td>\n",
       "      <td>1.5</td>\n",
       "      <td>0.2</td>\n",
       "      <td>0</td>\n",
       "    </tr>\n",
       "    <tr>\n",
       "      <th>4</th>\n",
       "      <td>5.0</td>\n",
       "      <td>3.6</td>\n",
       "      <td>1.4</td>\n",
       "      <td>0.2</td>\n",
       "      <td>0</td>\n",
       "    </tr>\n",
       "  </tbody>\n",
       "</table>\n",
       "</div>"
      ],
      "text/plain": [
       "   sepal length (cm)  sepal width (cm)  petal length (cm)  petal width (cm)  \\\n",
       "0                5.1               3.5                1.4               0.2   \n",
       "1                4.9               3.0                1.4               0.2   \n",
       "2                4.7               3.2                1.3               0.2   \n",
       "3                4.6               3.1                1.5               0.2   \n",
       "4                5.0               3.6                1.4               0.2   \n",
       "\n",
       "   Cluster  \n",
       "0        0  \n",
       "1        0  \n",
       "2        0  \n",
       "3        0  \n",
       "4        0  "
      ]
     },
     "execution_count": 20,
     "metadata": {},
     "output_type": "execute_result"
    }
   ],
   "source": [
    "df.head()"
   ]
  },
  {
   "cell_type": "markdown",
   "id": "986e37d4",
   "metadata": {},
   "source": [
    "# Check the size of each cluster"
   ]
  },
  {
   "cell_type": "code",
   "execution_count": 21,
   "id": "efe41b27",
   "metadata": {},
   "outputs": [
    {
     "data": {
      "text/plain": [
       "1    62\n",
       "0    50\n",
       "2    38\n",
       "Name: Cluster, dtype: int64"
      ]
     },
     "execution_count": 21,
     "metadata": {},
     "output_type": "execute_result"
    }
   ],
   "source": [
    "df['Cluster'].value_counts()"
   ]
  },
  {
   "cell_type": "markdown",
   "id": "6fd0ea63",
   "metadata": {},
   "source": [
    "# Analyze the clusters"
   ]
  },
  {
   "cell_type": "code",
   "execution_count": 22,
   "id": "33a93d6d",
   "metadata": {},
   "outputs": [
    {
     "data": {
      "image/png": "[encoded data removed]",
      "text/plain": [
       "<Figure size 763.5x720 with 1 Axes>"
      ]
     },
     "metadata": {
      "needs_background": "light"
     },
     "output_type": "display_data"
    }
   ],
   "source": [
    "# plot the lmplot to visualize the clusters\n",
    "# pass the different markers to display the points in each cluster with different shapes\n",
    "# the 'hue' parameter returns colors for each cluster\n",
    "sns.lmplot( x = 'sepal length (cm)', y = 'petal length (cm)',data =df, hue = 'Cluster', \n",
    "                markers = [',',  'o', '*'], fit_reg = False, size = 10)\n",
    "\n",
    "# set the axes and plot labels\n",
    "# set the font size using 'fontsize'\n",
    "plt.title('K-means Clustering (for K=3)', fontsize = 15)\n",
    "plt.xlabel('Sepal length', fontsize = 15)\n",
    "plt.ylabel('Petal length', fontsize = 15)\n",
    "\n",
    "# display the plot\n",
    "plt.show()"
   ]
  },
  {
   "cell_type": "code",
   "execution_count": null,
   "id": "9883d145",
   "metadata": {},
   "outputs": [],
   "source": []
  }
 ],
 "metadata": {
  "kernelspec": {
   "display_name": "Python 3",
   "language": "python",
   "name": "python3"
  },
  "language_info": {
   "codemirror_mode": {
    "name": "ipython",
    "version": 3
   },
   "file_extension": ".py",
   "mimetype": "text/x-python",
   "name": "python",
   "nbconvert_exporter": "python",
   "pygments_lexer": "ipython3",
   "version": "3.8.8"
  }
 },
 "nbformat": 4,
 "nbformat_minor": 5
}
